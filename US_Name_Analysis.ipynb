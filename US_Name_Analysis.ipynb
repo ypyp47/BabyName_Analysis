{
 "cells": [
  {
   "cell_type": "markdown",
   "id": "0177b14f-932c-4428-a97b-43f0a0f8d032",
   "metadata": {},
   "source": [
    "# US Baby Names Analysis"
   ]
  },
  {
   "cell_type": "markdown",
   "id": "50c289aa-d8a7-467f-b4a8-e4e437a84533",
   "metadata": {},
   "source": [
    "This notebook was created to analyze baby names enrolled to US Social Security Administration to find popular names during the period that the data was collected."
   ]
  },
  {
   "cell_type": "markdown",
   "id": "60861052-b0b3-42c3-bd0e-b19ecf68a4cb",
   "metadata": {},
   "source": [
    "## 1. Dataset"
   ]
  },
  {
   "cell_type": "markdown",
   "id": "7a3f5a0c-9afb-4a83-a7ca-08049031eb5a",
   "metadata": {},
   "source": [
    "- Source: Social Security Administration (SSA)\n",
    "- Popular Baby Names (State-specific data)\n",
    "- Contians only the top 1000 names through thier forms. To safeguard privacy, SSA excluded from these files certain names that would indicate, or would allow the ability to determine, names with fewer than 5 occurrences in any geographic area."
   ]
  },
  {
   "cell_type": "markdown",
   "id": "94e4938f-144f-4203-a06c-572d5526289d",
   "metadata": {},
   "source": [
    "## 2. Data Dictionary"
   ]
  },
  {
   "cell_type": "markdown",
   "id": "386f504e-36b5-4c80-b726-a9ef5f8704c9",
   "metadata": {},
   "source": [
    "- state: state where the names were registered\n",
    "- sex: baby's sex (binary: Female or Male)\n",
    "- year: year when the names were registered\n",
    "- name: registered name\n",
    "- occurences: how many times the name was registered"
   ]
  },
  {
   "cell_type": "markdown",
   "id": "58ad7e4f-9092-40c1-a73d-6b931b2e7c7d",
   "metadata": {},
   "source": [
    "## 3. Import files"
   ]
  },
  {
   "cell_type": "code",
   "execution_count": 1,
   "id": "829f6c21-5442-4836-b0d1-9dd455263a99",
   "metadata": {
    "tags": []
   },
   "outputs": [],
   "source": [
    "import pandas as pd\n",
    "import numpy as np\n",
    "import os"
   ]
  },
  {
   "cell_type": "code",
   "execution_count": 2,
   "id": "0976463c-68d5-43a6-a33c-6df9271de8af",
   "metadata": {
    "tags": []
   },
   "outputs": [],
   "source": [
    "folder_path = 'namesbystate'"
   ]
  },
  {
   "cell_type": "code",
   "execution_count": 3,
   "id": "5628b5a1-bade-4bb3-8456-5b99cb086b2a",
   "metadata": {
    "tags": []
   },
   "outputs": [],
   "source": [
    "# Create an empty list to store individual dataframes\n",
    "dfs = []"
   ]
  },
  {
   "cell_type": "code",
   "execution_count": 4,
   "id": "505d11af-6063-47ff-9c38-88fd363f755f",
   "metadata": {
    "tags": []
   },
   "outputs": [],
   "source": [
    "# Import each file using a for loop\n",
    "for filename in os.listdir(folder_path):\n",
    "    if filename.endswith('.TXT'):\n",
    "        # Create the full file path\n",
    "        file_path = os.path.join(folder_path, filename)\n",
    "\n",
    "        # Read the text file into a pandas dataframe\n",
    "        df = pd.read_csv(file_path, sep=',', header = None)\n",
    "\n",
    "        # Append the dataframe to the list\n",
    "        dfs.append(df)"
   ]
  },
  {
   "cell_type": "code",
   "execution_count": 5,
   "id": "c865814c-0ed3-4d3f-b66c-d04ad60ff282",
   "metadata": {
    "tags": []
   },
   "outputs": [],
   "source": [
    "# Combine all dataframes into one\n",
    "combined_df = pd.concat(dfs, ignore_index=True)"
   ]
  },
  {
   "cell_type": "code",
   "execution_count": 6,
   "id": "2e33bb84-2b15-4134-8b27-4e252c251f12",
   "metadata": {
    "tags": []
   },
   "outputs": [
    {
     "data": {
      "text/html": [
       "<div>\n",
       "<style scoped>\n",
       "    .dataframe tbody tr th:only-of-type {\n",
       "        vertical-align: middle;\n",
       "    }\n",
       "\n",
       "    .dataframe tbody tr th {\n",
       "        vertical-align: top;\n",
       "    }\n",
       "\n",
       "    .dataframe thead th {\n",
       "        text-align: right;\n",
       "    }\n",
       "</style>\n",
       "<table border=\"1\" class=\"dataframe\">\n",
       "  <thead>\n",
       "    <tr style=\"text-align: right;\">\n",
       "      <th></th>\n",
       "      <th>0</th>\n",
       "      <th>1</th>\n",
       "      <th>2</th>\n",
       "      <th>3</th>\n",
       "      <th>4</th>\n",
       "    </tr>\n",
       "  </thead>\n",
       "  <tbody>\n",
       "    <tr>\n",
       "      <th>0</th>\n",
       "      <td>AK</td>\n",
       "      <td>F</td>\n",
       "      <td>1910</td>\n",
       "      <td>Mary</td>\n",
       "      <td>14</td>\n",
       "    </tr>\n",
       "    <tr>\n",
       "      <th>1</th>\n",
       "      <td>AK</td>\n",
       "      <td>F</td>\n",
       "      <td>1910</td>\n",
       "      <td>Annie</td>\n",
       "      <td>12</td>\n",
       "    </tr>\n",
       "    <tr>\n",
       "      <th>2</th>\n",
       "      <td>AK</td>\n",
       "      <td>F</td>\n",
       "      <td>1910</td>\n",
       "      <td>Anna</td>\n",
       "      <td>10</td>\n",
       "    </tr>\n",
       "    <tr>\n",
       "      <th>3</th>\n",
       "      <td>AK</td>\n",
       "      <td>F</td>\n",
       "      <td>1910</td>\n",
       "      <td>Margaret</td>\n",
       "      <td>8</td>\n",
       "    </tr>\n",
       "    <tr>\n",
       "      <th>4</th>\n",
       "      <td>AK</td>\n",
       "      <td>F</td>\n",
       "      <td>1910</td>\n",
       "      <td>Helen</td>\n",
       "      <td>7</td>\n",
       "    </tr>\n",
       "  </tbody>\n",
       "</table>\n",
       "</div>"
      ],
      "text/plain": [
       "    0  1     2         3   4\n",
       "0  AK  F  1910      Mary  14\n",
       "1  AK  F  1910     Annie  12\n",
       "2  AK  F  1910      Anna  10\n",
       "3  AK  F  1910  Margaret   8\n",
       "4  AK  F  1910     Helen   7"
      ]
     },
     "execution_count": 6,
     "metadata": {},
     "output_type": "execute_result"
    }
   ],
   "source": [
    "# Check the data\n",
    "combined_df.head()"
   ]
  },
  {
   "cell_type": "code",
   "execution_count": 7,
   "id": "89431477-17ef-4771-88c6-dd160a80c963",
   "metadata": {
    "tags": []
   },
   "outputs": [],
   "source": [
    "# Rename columns\n",
    "combined_df.columns = ['state', 'sex', 'year', 'name', 'occurences']"
   ]
  },
  {
   "cell_type": "code",
   "execution_count": 8,
   "id": "a65a11b1-84e6-4591-8a72-46da320c7231",
   "metadata": {
    "tags": []
   },
   "outputs": [
    {
     "data": {
      "text/html": [
       "<div>\n",
       "<style scoped>\n",
       "    .dataframe tbody tr th:only-of-type {\n",
       "        vertical-align: middle;\n",
       "    }\n",
       "\n",
       "    .dataframe tbody tr th {\n",
       "        vertical-align: top;\n",
       "    }\n",
       "\n",
       "    .dataframe thead th {\n",
       "        text-align: right;\n",
       "    }\n",
       "</style>\n",
       "<table border=\"1\" class=\"dataframe\">\n",
       "  <thead>\n",
       "    <tr style=\"text-align: right;\">\n",
       "      <th></th>\n",
       "      <th>state</th>\n",
       "      <th>sex</th>\n",
       "      <th>year</th>\n",
       "      <th>name</th>\n",
       "      <th>occurences</th>\n",
       "    </tr>\n",
       "  </thead>\n",
       "  <tbody>\n",
       "    <tr>\n",
       "      <th>0</th>\n",
       "      <td>AK</td>\n",
       "      <td>F</td>\n",
       "      <td>1910</td>\n",
       "      <td>Mary</td>\n",
       "      <td>14</td>\n",
       "    </tr>\n",
       "    <tr>\n",
       "      <th>1</th>\n",
       "      <td>AK</td>\n",
       "      <td>F</td>\n",
       "      <td>1910</td>\n",
       "      <td>Annie</td>\n",
       "      <td>12</td>\n",
       "    </tr>\n",
       "    <tr>\n",
       "      <th>2</th>\n",
       "      <td>AK</td>\n",
       "      <td>F</td>\n",
       "      <td>1910</td>\n",
       "      <td>Anna</td>\n",
       "      <td>10</td>\n",
       "    </tr>\n",
       "    <tr>\n",
       "      <th>3</th>\n",
       "      <td>AK</td>\n",
       "      <td>F</td>\n",
       "      <td>1910</td>\n",
       "      <td>Margaret</td>\n",
       "      <td>8</td>\n",
       "    </tr>\n",
       "    <tr>\n",
       "      <th>4</th>\n",
       "      <td>AK</td>\n",
       "      <td>F</td>\n",
       "      <td>1910</td>\n",
       "      <td>Helen</td>\n",
       "      <td>7</td>\n",
       "    </tr>\n",
       "  </tbody>\n",
       "</table>\n",
       "</div>"
      ],
      "text/plain": [
       "  state sex  year      name  occurences\n",
       "0    AK   F  1910      Mary          14\n",
       "1    AK   F  1910     Annie          12\n",
       "2    AK   F  1910      Anna          10\n",
       "3    AK   F  1910  Margaret           8\n",
       "4    AK   F  1910     Helen           7"
      ]
     },
     "execution_count": 8,
     "metadata": {},
     "output_type": "execute_result"
    }
   ],
   "source": [
    "combined_df.head()"
   ]
  },
  {
   "cell_type": "markdown",
   "id": "777483fc-e0e3-4b50-9a53-7a671e4c95e1",
   "metadata": {},
   "source": [
    "## 4. EDA"
   ]
  },
  {
   "cell_type": "code",
   "execution_count": 9,
   "id": "65dc412b-6326-407f-82e6-cdba35223ac5",
   "metadata": {
    "tags": []
   },
   "outputs": [
    {
     "name": "stdout",
     "output_type": "stream",
     "text": [
      "<class 'pandas.core.frame.DataFrame'>\n",
      "RangeIndex: 6408041 entries, 0 to 6408040\n",
      "Data columns (total 5 columns):\n",
      " #   Column      Non-Null Count    Dtype \n",
      "---  ------      --------------    ----- \n",
      " 0   state       6408041 non-null  object\n",
      " 1   sex         6408041 non-null  object\n",
      " 2   year        6408041 non-null  int64 \n",
      " 3   name        6408041 non-null  object\n",
      " 4   occurences  6408041 non-null  int64 \n",
      "dtypes: int64(2), object(3)\n",
      "memory usage: 244.4+ MB\n"
     ]
    }
   ],
   "source": [
    "combined_df.info(show_counts=True)"
   ]
  },
  {
   "cell_type": "code",
   "execution_count": 10,
   "id": "aada1b46-844d-462a-97b4-5a32b2919fbb",
   "metadata": {
    "tags": []
   },
   "outputs": [
    {
     "data": {
      "text/plain": [
       "state         0\n",
       "sex           0\n",
       "year          0\n",
       "name          0\n",
       "occurences    0\n",
       "dtype: int64"
      ]
     },
     "execution_count": 10,
     "metadata": {},
     "output_type": "execute_result"
    }
   ],
   "source": [
    "combined_df.isnull().sum()"
   ]
  },
  {
   "cell_type": "markdown",
   "id": "d97190fb-d4b3-4533-8b9a-c7eafd7aa6df",
   "metadata": {},
   "source": [
    "There is no null value in the dataframe."
   ]
  },
  {
   "cell_type": "code",
   "execution_count": 11,
   "id": "53316c3f-c80a-4719-8349-f71b2d58b68d",
   "metadata": {
    "tags": []
   },
   "outputs": [],
   "source": [
    "# # Save the combined dataframe as a csv file\n",
    "# combined_df.to_csv('BabyNamesUS.csv')"
   ]
  },
  {
   "cell_type": "markdown",
   "id": "8139913f-e032-458d-849b-3587c4aeab8a",
   "metadata": {},
   "source": [
    "### 1) Unique names for each sex during the full period"
   ]
  },
  {
   "cell_type": "code",
   "execution_count": 12,
   "id": "40d4a140-61d7-4c6e-b3c8-12b16ef95883",
   "metadata": {
    "tags": []
   },
   "outputs": [
    {
     "data": {
      "text/html": [
       "<div>\n",
       "<style scoped>\n",
       "    .dataframe tbody tr th:only-of-type {\n",
       "        vertical-align: middle;\n",
       "    }\n",
       "\n",
       "    .dataframe tbody tr th {\n",
       "        vertical-align: top;\n",
       "    }\n",
       "\n",
       "    .dataframe thead th {\n",
       "        text-align: right;\n",
       "    }\n",
       "</style>\n",
       "<table border=\"1\" class=\"dataframe\">\n",
       "  <thead>\n",
       "    <tr style=\"text-align: right;\">\n",
       "      <th>sex</th>\n",
       "      <th>F</th>\n",
       "      <th>M</th>\n",
       "    </tr>\n",
       "    <tr>\n",
       "      <th>name</th>\n",
       "      <th></th>\n",
       "      <th></th>\n",
       "    </tr>\n",
       "  </thead>\n",
       "  <tbody>\n",
       "    <tr>\n",
       "      <th>Aaban</th>\n",
       "      <td>NaN</td>\n",
       "      <td>12.0</td>\n",
       "    </tr>\n",
       "    <tr>\n",
       "      <th>Aadam</th>\n",
       "      <td>NaN</td>\n",
       "      <td>6.0</td>\n",
       "    </tr>\n",
       "    <tr>\n",
       "      <th>Aadan</th>\n",
       "      <td>NaN</td>\n",
       "      <td>23.0</td>\n",
       "    </tr>\n",
       "    <tr>\n",
       "      <th>Aadarsh</th>\n",
       "      <td>NaN</td>\n",
       "      <td>11.0</td>\n",
       "    </tr>\n",
       "    <tr>\n",
       "      <th>Aaden</th>\n",
       "      <td>NaN</td>\n",
       "      <td>4174.0</td>\n",
       "    </tr>\n",
       "  </tbody>\n",
       "</table>\n",
       "</div>"
      ],
      "text/plain": [
       "sex       F       M\n",
       "name               \n",
       "Aaban   NaN    12.0\n",
       "Aadam   NaN     6.0\n",
       "Aadan   NaN    23.0\n",
       "Aadarsh NaN    11.0\n",
       "Aaden   NaN  4174.0"
      ]
     },
     "execution_count": 12,
     "metadata": {},
     "output_type": "execute_result"
    }
   ],
   "source": [
    "name_df = combined_df.pivot_table(index = 'name', values = 'occurences', columns = 'sex', aggfunc='sum')\n",
    "name_df.head()"
   ]
  },
  {
   "cell_type": "code",
   "execution_count": 13,
   "id": "ffa1d926-32f3-478a-bfa9-b2a022c725b5",
   "metadata": {
    "tags": []
   },
   "outputs": [
    {
     "name": "stdout",
     "output_type": "stream",
     "text": [
      "<class 'pandas.core.frame.DataFrame'>\n",
      "Index: 32722 entries, Aaban to Zyshonne\n",
      "Data columns (total 2 columns):\n",
      " #   Column  Non-Null Count  Dtype  \n",
      "---  ------  --------------  -----  \n",
      " 0   F       21570 non-null  float64\n",
      " 1   M       14336 non-null  float64\n",
      "dtypes: float64(2)\n",
      "memory usage: 766.9+ KB\n"
     ]
    }
   ],
   "source": [
    "name_df.info()"
   ]
  },
  {
   "cell_type": "markdown",
   "id": "022478d5-5b3e-48e2-bc65-1b1112663203",
   "metadata": {},
   "source": [
    "There are 21570 unique names for male and 14336 names for female."
   ]
  },
  {
   "cell_type": "markdown",
   "id": "bf095fbc-37ee-4f2d-a4ab-447b435d11f1",
   "metadata": {},
   "source": [
    "### 2) Transform 'year' to 'year_decade' to simplify the dataset for analysis"
   ]
  },
  {
   "cell_type": "code",
   "execution_count": 14,
   "id": "18ff2485-9896-45a8-8651-59d458879467",
   "metadata": {
    "tags": []
   },
   "outputs": [
    {
     "data": {
      "text/html": [
       "<div>\n",
       "<style scoped>\n",
       "    .dataframe tbody tr th:only-of-type {\n",
       "        vertical-align: middle;\n",
       "    }\n",
       "\n",
       "    .dataframe tbody tr th {\n",
       "        vertical-align: top;\n",
       "    }\n",
       "\n",
       "    .dataframe thead th {\n",
       "        text-align: right;\n",
       "    }\n",
       "</style>\n",
       "<table border=\"1\" class=\"dataframe\">\n",
       "  <thead>\n",
       "    <tr style=\"text-align: right;\">\n",
       "      <th></th>\n",
       "      <th>year</th>\n",
       "      <th>occurences</th>\n",
       "    </tr>\n",
       "  </thead>\n",
       "  <tbody>\n",
       "    <tr>\n",
       "      <th>count</th>\n",
       "      <td>6408041</td>\n",
       "      <td>6408041</td>\n",
       "    </tr>\n",
       "    <tr>\n",
       "      <th>mean</th>\n",
       "      <td>1978</td>\n",
       "      <td>50</td>\n",
       "    </tr>\n",
       "    <tr>\n",
       "      <th>std</th>\n",
       "      <td>32</td>\n",
       "      <td>172</td>\n",
       "    </tr>\n",
       "    <tr>\n",
       "      <th>min</th>\n",
       "      <td>1910</td>\n",
       "      <td>5</td>\n",
       "    </tr>\n",
       "    <tr>\n",
       "      <th>25%</th>\n",
       "      <td>1954</td>\n",
       "      <td>7</td>\n",
       "    </tr>\n",
       "    <tr>\n",
       "      <th>50%</th>\n",
       "      <td>1983</td>\n",
       "      <td>12</td>\n",
       "    </tr>\n",
       "    <tr>\n",
       "      <th>75%</th>\n",
       "      <td>2005</td>\n",
       "      <td>33</td>\n",
       "    </tr>\n",
       "    <tr>\n",
       "      <th>max</th>\n",
       "      <td>2022</td>\n",
       "      <td>10027</td>\n",
       "    </tr>\n",
       "  </tbody>\n",
       "</table>\n",
       "</div>"
      ],
      "text/plain": [
       "         year  occurences\n",
       "count 6408041     6408041\n",
       "mean     1978          50\n",
       "std        32         172\n",
       "min      1910           5\n",
       "25%      1954           7\n",
       "50%      1983          12\n",
       "75%      2005          33\n",
       "max      2022       10027"
      ]
     },
     "execution_count": 14,
     "metadata": {},
     "output_type": "execute_result"
    }
   ],
   "source": [
    "pd.set_option('display.float_format', lambda x: '%.0f' % x)\n",
    "combined_df.describe()"
   ]
  },
  {
   "cell_type": "markdown",
   "id": "476cb786-9a5e-4cab-953f-581fd0d0fd3e",
   "metadata": {},
   "source": [
    "This dataset contains baby names reported to SSA (Social Security Administration) from 51 states in the United States from 1910 to 2022. Since there are too many years, I will create a new colum called 'year_decade' to aggregate years by decade."
   ]
  },
  {
   "cell_type": "code",
   "execution_count": 15,
   "id": "089253b9-77c9-4927-9b74-47b3b2087845",
   "metadata": {
    "tags": []
   },
   "outputs": [],
   "source": [
    "combined_df['year_decade'] = (combined_df['year'] // 10) * 10"
   ]
  },
  {
   "cell_type": "code",
   "execution_count": 16,
   "id": "712dcb0a-b5cc-4aba-bae0-f81786319c97",
   "metadata": {
    "tags": []
   },
   "outputs": [],
   "source": [
    "combined_df['year_decade'] = combined_df['year_decade'].apply(lambda x: str(x) + 's')"
   ]
  },
  {
   "cell_type": "code",
   "execution_count": 17,
   "id": "17dd0af2-a899-49d1-ad96-0b6b1ab9d963",
   "metadata": {
    "tags": []
   },
   "outputs": [
    {
     "data": {
      "text/html": [
       "<div>\n",
       "<style scoped>\n",
       "    .dataframe tbody tr th:only-of-type {\n",
       "        vertical-align: middle;\n",
       "    }\n",
       "\n",
       "    .dataframe tbody tr th {\n",
       "        vertical-align: top;\n",
       "    }\n",
       "\n",
       "    .dataframe thead th {\n",
       "        text-align: right;\n",
       "    }\n",
       "</style>\n",
       "<table border=\"1\" class=\"dataframe\">\n",
       "  <thead>\n",
       "    <tr style=\"text-align: right;\">\n",
       "      <th></th>\n",
       "      <th>state</th>\n",
       "      <th>sex</th>\n",
       "      <th>year</th>\n",
       "      <th>name</th>\n",
       "      <th>occurences</th>\n",
       "      <th>year_decade</th>\n",
       "    </tr>\n",
       "  </thead>\n",
       "  <tbody>\n",
       "    <tr>\n",
       "      <th>0</th>\n",
       "      <td>AK</td>\n",
       "      <td>F</td>\n",
       "      <td>1910</td>\n",
       "      <td>Mary</td>\n",
       "      <td>14</td>\n",
       "      <td>1910s</td>\n",
       "    </tr>\n",
       "    <tr>\n",
       "      <th>1</th>\n",
       "      <td>AK</td>\n",
       "      <td>F</td>\n",
       "      <td>1910</td>\n",
       "      <td>Annie</td>\n",
       "      <td>12</td>\n",
       "      <td>1910s</td>\n",
       "    </tr>\n",
       "    <tr>\n",
       "      <th>2</th>\n",
       "      <td>AK</td>\n",
       "      <td>F</td>\n",
       "      <td>1910</td>\n",
       "      <td>Anna</td>\n",
       "      <td>10</td>\n",
       "      <td>1910s</td>\n",
       "    </tr>\n",
       "    <tr>\n",
       "      <th>3</th>\n",
       "      <td>AK</td>\n",
       "      <td>F</td>\n",
       "      <td>1910</td>\n",
       "      <td>Margaret</td>\n",
       "      <td>8</td>\n",
       "      <td>1910s</td>\n",
       "    </tr>\n",
       "    <tr>\n",
       "      <th>4</th>\n",
       "      <td>AK</td>\n",
       "      <td>F</td>\n",
       "      <td>1910</td>\n",
       "      <td>Helen</td>\n",
       "      <td>7</td>\n",
       "      <td>1910s</td>\n",
       "    </tr>\n",
       "    <tr>\n",
       "      <th>...</th>\n",
       "      <td>...</td>\n",
       "      <td>...</td>\n",
       "      <td>...</td>\n",
       "      <td>...</td>\n",
       "      <td>...</td>\n",
       "      <td>...</td>\n",
       "    </tr>\n",
       "    <tr>\n",
       "      <th>6408036</th>\n",
       "      <td>WY</td>\n",
       "      <td>M</td>\n",
       "      <td>2022</td>\n",
       "      <td>Lane</td>\n",
       "      <td>5</td>\n",
       "      <td>2020s</td>\n",
       "    </tr>\n",
       "    <tr>\n",
       "      <th>6408037</th>\n",
       "      <td>WY</td>\n",
       "      <td>M</td>\n",
       "      <td>2022</td>\n",
       "      <td>Michael</td>\n",
       "      <td>5</td>\n",
       "      <td>2020s</td>\n",
       "    </tr>\n",
       "    <tr>\n",
       "      <th>6408038</th>\n",
       "      <td>WY</td>\n",
       "      <td>M</td>\n",
       "      <td>2022</td>\n",
       "      <td>Nicholas</td>\n",
       "      <td>5</td>\n",
       "      <td>2020s</td>\n",
       "    </tr>\n",
       "    <tr>\n",
       "      <th>6408039</th>\n",
       "      <td>WY</td>\n",
       "      <td>M</td>\n",
       "      <td>2022</td>\n",
       "      <td>River</td>\n",
       "      <td>5</td>\n",
       "      <td>2020s</td>\n",
       "    </tr>\n",
       "    <tr>\n",
       "      <th>6408040</th>\n",
       "      <td>WY</td>\n",
       "      <td>M</td>\n",
       "      <td>2022</td>\n",
       "      <td>Silas</td>\n",
       "      <td>5</td>\n",
       "      <td>2020s</td>\n",
       "    </tr>\n",
       "  </tbody>\n",
       "</table>\n",
       "<p>6408041 rows × 6 columns</p>\n",
       "</div>"
      ],
      "text/plain": [
       "        state sex  year      name  occurences year_decade\n",
       "0          AK   F  1910      Mary          14       1910s\n",
       "1          AK   F  1910     Annie          12       1910s\n",
       "2          AK   F  1910      Anna          10       1910s\n",
       "3          AK   F  1910  Margaret           8       1910s\n",
       "4          AK   F  1910     Helen           7       1910s\n",
       "...       ...  ..   ...       ...         ...         ...\n",
       "6408036    WY   M  2022      Lane           5       2020s\n",
       "6408037    WY   M  2022   Michael           5       2020s\n",
       "6408038    WY   M  2022  Nicholas           5       2020s\n",
       "6408039    WY   M  2022     River           5       2020s\n",
       "6408040    WY   M  2022     Silas           5       2020s\n",
       "\n",
       "[6408041 rows x 6 columns]"
      ]
     },
     "execution_count": 17,
     "metadata": {},
     "output_type": "execute_result"
    }
   ],
   "source": [
    "combined_df"
   ]
  },
  {
   "cell_type": "markdown",
   "id": "9bda88ab-f4d6-4dd8-96d5-d776da2bea1e",
   "metadata": {},
   "source": [
    "### 3) The most popular baby names during the full period."
   ]
  },
  {
   "cell_type": "code",
   "execution_count": 18,
   "id": "c91331d2-51b6-46fe-898e-387975fa6f9e",
   "metadata": {
    "tags": []
   },
   "outputs": [
    {
     "data": {
      "text/html": [
       "<div>\n",
       "<style scoped>\n",
       "    .dataframe tbody tr th:only-of-type {\n",
       "        vertical-align: middle;\n",
       "    }\n",
       "\n",
       "    .dataframe tbody tr th {\n",
       "        vertical-align: top;\n",
       "    }\n",
       "\n",
       "    .dataframe thead th {\n",
       "        text-align: right;\n",
       "    }\n",
       "</style>\n",
       "<table border=\"1\" class=\"dataframe\">\n",
       "  <thead>\n",
       "    <tr style=\"text-align: right;\">\n",
       "      <th></th>\n",
       "      <th>sex</th>\n",
       "      <th>name</th>\n",
       "      <th>occurences</th>\n",
       "    </tr>\n",
       "  </thead>\n",
       "  <tbody>\n",
       "    <tr>\n",
       "      <th>0</th>\n",
       "      <td>F</td>\n",
       "      <td>Mary</td>\n",
       "      <td>3750176</td>\n",
       "    </tr>\n",
       "    <tr>\n",
       "      <th>1</th>\n",
       "      <td>M</td>\n",
       "      <td>James</td>\n",
       "      <td>5047892</td>\n",
       "    </tr>\n",
       "  </tbody>\n",
       "</table>\n",
       "</div>"
      ],
      "text/plain": [
       "  sex   name  occurences\n",
       "0   F   Mary     3750176\n",
       "1   M  James     5047892"
      ]
     },
     "execution_count": 18,
     "metadata": {},
     "output_type": "execute_result"
    }
   ],
   "source": [
    "# Group by the dataframe by sex and name\n",
    "top_names = combined_df.groupby(['sex', 'name'])['occurences'].sum().reset_index()\n",
    "\n",
    "# Find the most frequently shown name\n",
    "top_names.loc[top_names.groupby('sex')['occurences'].idxmax()].reset_index(drop = True)"
   ]
  },
  {
   "cell_type": "markdown",
   "id": "6c6815ce-e74c-4436-a5aa-58e40125b3d1",
   "metadata": {},
   "source": [
    "The most popular name for female is 'Mary' and for male is 'James' from 1910 to 2022."
   ]
  },
  {
   "cell_type": "markdown",
   "id": "511212b0-7bb3-462d-8e96-fa4d43bbc4bd",
   "metadata": {},
   "source": [
    "### 4) The most popular baby names by each decade"
   ]
  },
  {
   "cell_type": "code",
   "execution_count": 19,
   "id": "c40f71ed-bbc9-470c-8b89-29e1b0cf4dfe",
   "metadata": {
    "tags": []
   },
   "outputs": [
    {
     "data": {
      "text/html": [
       "<div>\n",
       "<style scoped>\n",
       "    .dataframe tbody tr th:only-of-type {\n",
       "        vertical-align: middle;\n",
       "    }\n",
       "\n",
       "    .dataframe tbody tr th {\n",
       "        vertical-align: top;\n",
       "    }\n",
       "\n",
       "    .dataframe thead th {\n",
       "        text-align: right;\n",
       "    }\n",
       "</style>\n",
       "<table border=\"1\" class=\"dataframe\">\n",
       "  <thead>\n",
       "    <tr style=\"text-align: right;\">\n",
       "      <th></th>\n",
       "      <th>sex</th>\n",
       "      <th>name</th>\n",
       "      <th>year_decade</th>\n",
       "      <th>occurences</th>\n",
       "    </tr>\n",
       "  </thead>\n",
       "  <tbody>\n",
       "    <tr>\n",
       "      <th>0</th>\n",
       "      <td>F</td>\n",
       "      <td>Mary</td>\n",
       "      <td>1910s</td>\n",
       "      <td>478637</td>\n",
       "    </tr>\n",
       "    <tr>\n",
       "      <th>1</th>\n",
       "      <td>F</td>\n",
       "      <td>Mary</td>\n",
       "      <td>1920s</td>\n",
       "      <td>701755</td>\n",
       "    </tr>\n",
       "    <tr>\n",
       "      <th>2</th>\n",
       "      <td>F</td>\n",
       "      <td>Mary</td>\n",
       "      <td>1930s</td>\n",
       "      <td>572987</td>\n",
       "    </tr>\n",
       "    <tr>\n",
       "      <th>3</th>\n",
       "      <td>F</td>\n",
       "      <td>Mary</td>\n",
       "      <td>1940s</td>\n",
       "      <td>640066</td>\n",
       "    </tr>\n",
       "    <tr>\n",
       "      <th>4</th>\n",
       "      <td>F</td>\n",
       "      <td>Mary</td>\n",
       "      <td>1950s</td>\n",
       "      <td>625601</td>\n",
       "    </tr>\n",
       "    <tr>\n",
       "      <th>5</th>\n",
       "      <td>F</td>\n",
       "      <td>Lisa</td>\n",
       "      <td>1960s</td>\n",
       "      <td>496975</td>\n",
       "    </tr>\n",
       "    <tr>\n",
       "      <th>6</th>\n",
       "      <td>F</td>\n",
       "      <td>Jennifer</td>\n",
       "      <td>1970s</td>\n",
       "      <td>581753</td>\n",
       "    </tr>\n",
       "    <tr>\n",
       "      <th>7</th>\n",
       "      <td>F</td>\n",
       "      <td>Jessica</td>\n",
       "      <td>1980s</td>\n",
       "      <td>469518</td>\n",
       "    </tr>\n",
       "    <tr>\n",
       "      <th>8</th>\n",
       "      <td>F</td>\n",
       "      <td>Jessica</td>\n",
       "      <td>1990s</td>\n",
       "      <td>303118</td>\n",
       "    </tr>\n",
       "    <tr>\n",
       "      <th>9</th>\n",
       "      <td>F</td>\n",
       "      <td>Emily</td>\n",
       "      <td>2000s</td>\n",
       "      <td>223734</td>\n",
       "    </tr>\n",
       "    <tr>\n",
       "      <th>10</th>\n",
       "      <td>F</td>\n",
       "      <td>Emma</td>\n",
       "      <td>2010s</td>\n",
       "      <td>194917</td>\n",
       "    </tr>\n",
       "    <tr>\n",
       "      <th>11</th>\n",
       "      <td>F</td>\n",
       "      <td>Olivia</td>\n",
       "      <td>2020s</td>\n",
       "      <td>52035</td>\n",
       "    </tr>\n",
       "    <tr>\n",
       "      <th>12</th>\n",
       "      <td>M</td>\n",
       "      <td>John</td>\n",
       "      <td>1910s</td>\n",
       "      <td>376312</td>\n",
       "    </tr>\n",
       "    <tr>\n",
       "      <th>13</th>\n",
       "      <td>M</td>\n",
       "      <td>Robert</td>\n",
       "      <td>1920s</td>\n",
       "      <td>576373</td>\n",
       "    </tr>\n",
       "    <tr>\n",
       "      <th>14</th>\n",
       "      <td>M</td>\n",
       "      <td>Robert</td>\n",
       "      <td>1930s</td>\n",
       "      <td>590787</td>\n",
       "    </tr>\n",
       "    <tr>\n",
       "      <th>15</th>\n",
       "      <td>M</td>\n",
       "      <td>James</td>\n",
       "      <td>1940s</td>\n",
       "      <td>795753</td>\n",
       "    </tr>\n",
       "    <tr>\n",
       "      <th>16</th>\n",
       "      <td>M</td>\n",
       "      <td>James</td>\n",
       "      <td>1950s</td>\n",
       "      <td>843711</td>\n",
       "    </tr>\n",
       "    <tr>\n",
       "      <th>17</th>\n",
       "      <td>M</td>\n",
       "      <td>Michael</td>\n",
       "      <td>1960s</td>\n",
       "      <td>833102</td>\n",
       "    </tr>\n",
       "    <tr>\n",
       "      <th>18</th>\n",
       "      <td>M</td>\n",
       "      <td>Michael</td>\n",
       "      <td>1970s</td>\n",
       "      <td>707458</td>\n",
       "    </tr>\n",
       "    <tr>\n",
       "      <th>19</th>\n",
       "      <td>M</td>\n",
       "      <td>Michael</td>\n",
       "      <td>1980s</td>\n",
       "      <td>663827</td>\n",
       "    </tr>\n",
       "    <tr>\n",
       "      <th>20</th>\n",
       "      <td>M</td>\n",
       "      <td>Michael</td>\n",
       "      <td>1990s</td>\n",
       "      <td>462390</td>\n",
       "    </tr>\n",
       "    <tr>\n",
       "      <th>21</th>\n",
       "      <td>M</td>\n",
       "      <td>Jacob</td>\n",
       "      <td>2000s</td>\n",
       "      <td>273992</td>\n",
       "    </tr>\n",
       "    <tr>\n",
       "      <th>22</th>\n",
       "      <td>M</td>\n",
       "      <td>Noah</td>\n",
       "      <td>2010s</td>\n",
       "      <td>183172</td>\n",
       "    </tr>\n",
       "    <tr>\n",
       "      <th>23</th>\n",
       "      <td>M</td>\n",
       "      <td>Liam</td>\n",
       "      <td>2020s</td>\n",
       "      <td>60649</td>\n",
       "    </tr>\n",
       "  </tbody>\n",
       "</table>\n",
       "</div>"
      ],
      "text/plain": [
       "   sex      name year_decade  occurences\n",
       "0    F      Mary       1910s      478637\n",
       "1    F      Mary       1920s      701755\n",
       "2    F      Mary       1930s      572987\n",
       "3    F      Mary       1940s      640066\n",
       "4    F      Mary       1950s      625601\n",
       "5    F      Lisa       1960s      496975\n",
       "6    F  Jennifer       1970s      581753\n",
       "7    F   Jessica       1980s      469518\n",
       "8    F   Jessica       1990s      303118\n",
       "9    F     Emily       2000s      223734\n",
       "10   F      Emma       2010s      194917\n",
       "11   F    Olivia       2020s       52035\n",
       "12   M      John       1910s      376312\n",
       "13   M    Robert       1920s      576373\n",
       "14   M    Robert       1930s      590787\n",
       "15   M     James       1940s      795753\n",
       "16   M     James       1950s      843711\n",
       "17   M   Michael       1960s      833102\n",
       "18   M   Michael       1970s      707458\n",
       "19   M   Michael       1980s      663827\n",
       "20   M   Michael       1990s      462390\n",
       "21   M     Jacob       2000s      273992\n",
       "22   M      Noah       2010s      183172\n",
       "23   M      Liam       2020s       60649"
      ]
     },
     "execution_count": 19,
     "metadata": {},
     "output_type": "execute_result"
    }
   ],
   "source": [
    "top_names_by_decade = combined_df.groupby(['sex', 'name', 'year_decade'])['occurences'].sum().reset_index()\n",
    "\n",
    "# Find the index of the maximum value in each group\n",
    "max_occurrences_index = top_names_by_decade.groupby(['sex', 'year_decade'])['occurences'].idxmax()\n",
    "\n",
    "# Get the most popular name for each sex within each decade\n",
    "most_popular_names_decade = top_names_by_decade.loc[max_occurrences_index].reset_index(drop = True)\n",
    "\n",
    "most_popular_names_decade"
   ]
  },
  {
   "cell_type": "markdown",
   "id": "ab80def9-90ef-4175-8ff8-e70a495df594",
   "metadata": {},
   "source": [
    "From the analysis, 'Mary' had been a very popular name for a long time. Then the trend changed in 1960s. For males, Robert, James, Michael were nomiated as popular names in many decades."
   ]
  },
  {
   "cell_type": "markdown",
   "id": "783c88c1-12c6-4475-b4d7-445516e6cce4",
   "metadata": {},
   "source": [
    "### 5) Top 10 popular baby names for each sex during the past 5 years"
   ]
  },
  {
   "cell_type": "markdown",
   "id": "fb3958f2-426f-4779-8a92-64d7dc5a7755",
   "metadata": {},
   "source": [
    "When my niece was born, my family took about a week to decide her name. We wanted to give her a pretty but also trendy name. I believe this analysis might help parents who have a newborn and want to give a trendy name to thier baby."
   ]
  },
  {
   "cell_type": "code",
   "execution_count": 20,
   "id": "57bca48a-39d1-4ae4-bf84-2b880f8e7d12",
   "metadata": {
    "tags": []
   },
   "outputs": [
    {
     "data": {
      "text/html": [
       "<div>\n",
       "<style scoped>\n",
       "    .dataframe tbody tr th:only-of-type {\n",
       "        vertical-align: middle;\n",
       "    }\n",
       "\n",
       "    .dataframe tbody tr th {\n",
       "        vertical-align: top;\n",
       "    }\n",
       "\n",
       "    .dataframe thead th {\n",
       "        text-align: right;\n",
       "    }\n",
       "</style>\n",
       "<table border=\"1\" class=\"dataframe\">\n",
       "  <thead>\n",
       "    <tr style=\"text-align: right;\">\n",
       "      <th></th>\n",
       "      <th>state</th>\n",
       "      <th>sex</th>\n",
       "      <th>year</th>\n",
       "      <th>name</th>\n",
       "      <th>occurences</th>\n",
       "      <th>year_decade</th>\n",
       "    </tr>\n",
       "  </thead>\n",
       "  <tbody>\n",
       "    <tr>\n",
       "      <th>14421</th>\n",
       "      <td>AK</td>\n",
       "      <td>F</td>\n",
       "      <td>2018</td>\n",
       "      <td>Aurora</td>\n",
       "      <td>46</td>\n",
       "      <td>2010s</td>\n",
       "    </tr>\n",
       "    <tr>\n",
       "      <th>14422</th>\n",
       "      <td>AK</td>\n",
       "      <td>F</td>\n",
       "      <td>2018</td>\n",
       "      <td>Amelia</td>\n",
       "      <td>45</td>\n",
       "      <td>2010s</td>\n",
       "    </tr>\n",
       "    <tr>\n",
       "      <th>14423</th>\n",
       "      <td>AK</td>\n",
       "      <td>F</td>\n",
       "      <td>2018</td>\n",
       "      <td>Charlotte</td>\n",
       "      <td>44</td>\n",
       "      <td>2010s</td>\n",
       "    </tr>\n",
       "    <tr>\n",
       "      <th>14424</th>\n",
       "      <td>AK</td>\n",
       "      <td>F</td>\n",
       "      <td>2018</td>\n",
       "      <td>Olivia</td>\n",
       "      <td>44</td>\n",
       "      <td>2010s</td>\n",
       "    </tr>\n",
       "    <tr>\n",
       "      <th>14425</th>\n",
       "      <td>AK</td>\n",
       "      <td>F</td>\n",
       "      <td>2018</td>\n",
       "      <td>Sophia</td>\n",
       "      <td>41</td>\n",
       "      <td>2010s</td>\n",
       "    </tr>\n",
       "  </tbody>\n",
       "</table>\n",
       "</div>"
      ],
      "text/plain": [
       "      state sex  year       name  occurences year_decade\n",
       "14421    AK   F  2018     Aurora          46       2010s\n",
       "14422    AK   F  2018     Amelia          45       2010s\n",
       "14423    AK   F  2018  Charlotte          44       2010s\n",
       "14424    AK   F  2018     Olivia          44       2010s\n",
       "14425    AK   F  2018     Sophia          41       2010s"
      ]
     },
     "execution_count": 20,
     "metadata": {},
     "output_type": "execute_result"
    }
   ],
   "source": [
    "# Extract recent 5 years data\n",
    "recent5years = combined_df[combined_df.year > combined_df.year.max() - 5]\n",
    "recent5years.head()"
   ]
  },
  {
   "cell_type": "code",
   "execution_count": 21,
   "id": "edea70cb-6607-41d9-9d19-16de8d978314",
   "metadata": {
    "tags": []
   },
   "outputs": [
    {
     "data": {
      "text/html": [
       "<div>\n",
       "<style scoped>\n",
       "    .dataframe tbody tr th:only-of-type {\n",
       "        vertical-align: middle;\n",
       "    }\n",
       "\n",
       "    .dataframe tbody tr th {\n",
       "        vertical-align: top;\n",
       "    }\n",
       "\n",
       "    .dataframe thead th {\n",
       "        text-align: right;\n",
       "    }\n",
       "</style>\n",
       "<table border=\"1\" class=\"dataframe\">\n",
       "  <thead>\n",
       "    <tr style=\"text-align: right;\">\n",
       "      <th></th>\n",
       "      <th>sex</th>\n",
       "      <th>name</th>\n",
       "      <th>occurences</th>\n",
       "    </tr>\n",
       "  </thead>\n",
       "  <tbody>\n",
       "    <tr>\n",
       "      <th>0</th>\n",
       "      <td>F</td>\n",
       "      <td>Olivia</td>\n",
       "      <td>88623</td>\n",
       "    </tr>\n",
       "    <tr>\n",
       "      <th>1</th>\n",
       "      <td>F</td>\n",
       "      <td>Emma</td>\n",
       "      <td>81620</td>\n",
       "    </tr>\n",
       "    <tr>\n",
       "      <th>2</th>\n",
       "      <td>F</td>\n",
       "      <td>Ava</td>\n",
       "      <td>66586</td>\n",
       "    </tr>\n",
       "    <tr>\n",
       "      <th>3</th>\n",
       "      <td>F</td>\n",
       "      <td>Sophia</td>\n",
       "      <td>65705</td>\n",
       "    </tr>\n",
       "    <tr>\n",
       "      <th>4</th>\n",
       "      <td>F</td>\n",
       "      <td>Charlotte</td>\n",
       "      <td>65550</td>\n",
       "    </tr>\n",
       "    <tr>\n",
       "      <th>5</th>\n",
       "      <td>F</td>\n",
       "      <td>Amelia</td>\n",
       "      <td>63437</td>\n",
       "    </tr>\n",
       "    <tr>\n",
       "      <th>6</th>\n",
       "      <td>F</td>\n",
       "      <td>Isabella</td>\n",
       "      <td>63030</td>\n",
       "    </tr>\n",
       "    <tr>\n",
       "      <th>7</th>\n",
       "      <td>F</td>\n",
       "      <td>Mia</td>\n",
       "      <td>58613</td>\n",
       "    </tr>\n",
       "    <tr>\n",
       "      <th>8</th>\n",
       "      <td>F</td>\n",
       "      <td>Evelyn</td>\n",
       "      <td>49127</td>\n",
       "    </tr>\n",
       "    <tr>\n",
       "      <th>9</th>\n",
       "      <td>F</td>\n",
       "      <td>Harper</td>\n",
       "      <td>46564</td>\n",
       "    </tr>\n",
       "    <tr>\n",
       "      <th>10</th>\n",
       "      <td>M</td>\n",
       "      <td>Liam</td>\n",
       "      <td>101207</td>\n",
       "    </tr>\n",
       "    <tr>\n",
       "      <th>11</th>\n",
       "      <td>M</td>\n",
       "      <td>Noah</td>\n",
       "      <td>93425</td>\n",
       "    </tr>\n",
       "    <tr>\n",
       "      <th>12</th>\n",
       "      <td>M</td>\n",
       "      <td>Oliver</td>\n",
       "      <td>71460</td>\n",
       "    </tr>\n",
       "    <tr>\n",
       "      <th>13</th>\n",
       "      <td>M</td>\n",
       "      <td>William</td>\n",
       "      <td>64331</td>\n",
       "    </tr>\n",
       "    <tr>\n",
       "      <th>14</th>\n",
       "      <td>M</td>\n",
       "      <td>Elijah</td>\n",
       "      <td>64315</td>\n",
       "    </tr>\n",
       "    <tr>\n",
       "      <th>15</th>\n",
       "      <td>M</td>\n",
       "      <td>James</td>\n",
       "      <td>63628</td>\n",
       "    </tr>\n",
       "    <tr>\n",
       "      <th>16</th>\n",
       "      <td>M</td>\n",
       "      <td>Benjamin</td>\n",
       "      <td>61427</td>\n",
       "    </tr>\n",
       "    <tr>\n",
       "      <th>17</th>\n",
       "      <td>M</td>\n",
       "      <td>Lucas</td>\n",
       "      <td>58952</td>\n",
       "    </tr>\n",
       "    <tr>\n",
       "      <th>18</th>\n",
       "      <td>M</td>\n",
       "      <td>Henry</td>\n",
       "      <td>54814</td>\n",
       "    </tr>\n",
       "    <tr>\n",
       "      <th>19</th>\n",
       "      <td>M</td>\n",
       "      <td>Alexander</td>\n",
       "      <td>51716</td>\n",
       "    </tr>\n",
       "  </tbody>\n",
       "</table>\n",
       "</div>"
      ],
      "text/plain": [
       "   sex       name  occurences\n",
       "0    F     Olivia       88623\n",
       "1    F       Emma       81620\n",
       "2    F        Ava       66586\n",
       "3    F     Sophia       65705\n",
       "4    F  Charlotte       65550\n",
       "5    F     Amelia       63437\n",
       "6    F   Isabella       63030\n",
       "7    F        Mia       58613\n",
       "8    F     Evelyn       49127\n",
       "9    F     Harper       46564\n",
       "10   M       Liam      101207\n",
       "11   M       Noah       93425\n",
       "12   M     Oliver       71460\n",
       "13   M    William       64331\n",
       "14   M     Elijah       64315\n",
       "15   M      James       63628\n",
       "16   M   Benjamin       61427\n",
       "17   M      Lucas       58952\n",
       "18   M      Henry       54814\n",
       "19   M  Alexander       51716"
      ]
     },
     "execution_count": 21,
     "metadata": {},
     "output_type": "execute_result"
    }
   ],
   "source": [
    "grouped_df = recent5years.groupby(['sex', 'name'])['occurences'].sum().reset_index()\n",
    "\n",
    "# Sort the dataframe by occurrences within each group\n",
    "sorted_df = grouped_df.sort_values(by=['sex', 'occurences'], ascending=[True, False])\n",
    "\n",
    "# Get the top 10 names for each sex\n",
    "top5_names = sorted_df.groupby(['sex']).head(10).reset_index(drop = True)\n",
    "\n",
    "# Display the result\n",
    "top5_names"
   ]
  }
 ],
 "metadata": {
  "kernelspec": {
   "display_name": "Python 3 (ipykernel)",
   "language": "python",
   "name": "python3"
  },
  "language_info": {
   "codemirror_mode": {
    "name": "ipython",
    "version": 3
   },
   "file_extension": ".py",
   "mimetype": "text/x-python",
   "name": "python",
   "nbconvert_exporter": "python",
   "pygments_lexer": "ipython3",
   "version": "3.11.4"
  }
 },
 "nbformat": 4,
 "nbformat_minor": 5
}
